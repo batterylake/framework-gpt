{
 "cells": [
  {
   "cell_type": "markdown",
   "id": "b33e0e5b",
   "metadata": {},
   "source": [
    "# bigram model\n",
    "\n",
    "> Let's create a simple bigram model for text generation based on the Tiny Shakespear dataset"
   ]
  },
  {
   "cell_type": "code",
   "execution_count": null,
   "id": "91952496",
   "metadata": {},
   "outputs": [],
   "source": [
    "#| default_exp bigram"
   ]
  },
  {
   "cell_type": "code",
   "execution_count": null,
   "id": "2c067f90",
   "metadata": {},
   "outputs": [],
   "source": [
    "#| hide\n",
    "from nbdev.showdoc import *\n",
    "import nbdev; nbdev.nbdev_export()"
   ]
  },
  {
   "cell_type": "markdown",
   "id": "3573d46b",
   "metadata": {},
   "source": [
    "We will be using PyTorch for this model:"
   ]
  },
  {
   "cell_type": "code",
   "execution_count": null,
   "id": "aaebde7c",
   "metadata": {},
   "outputs": [],
   "source": [
    "import torch\n",
    "import torch.nn as nn\n",
    "from torch.nn import functional as F"
   ]
  },
  {
   "cell_type": "markdown",
   "id": "5a28c85a",
   "metadata": {},
   "source": [
    "Hyperparameters:"
   ]
  },
  {
   "cell_type": "code",
   "execution_count": null,
   "id": "15f56f84",
   "metadata": {},
   "outputs": [
    {
     "data": {
      "text/plain": [
       "<torch._C.Generator>"
      ]
     },
     "execution_count": null,
     "metadata": {},
     "output_type": "execute_result"
    }
   ],
   "source": [
    "batch_size = 32 # how many sequences will we process in parallel?\n",
    "block_size = 8 # what is the maximum context length?\n",
    "max_iters = 5000\n",
    "eval_interval = 500\n",
    "learning_rate = 1e-3\n",
    "device = 'cuda' if torch.cuda.is_available() else 'cpu' # use cuda if available\n",
    "eval_iters = 200\n",
    "n_embd = 32\n",
    "torch.manual_seed(1337)"
   ]
  },
  {
   "cell_type": "markdown",
   "id": "fc25f5b6",
   "metadata": {},
   "source": [
    "Getting the Tiny Shakepeare dataset (a small text file containing all the works of Shakepeare):"
   ]
  },
  {
   "cell_type": "code",
   "execution_count": null,
   "id": "4c97bfbc",
   "metadata": {},
   "outputs": [
    {
     "name": "stdout",
     "output_type": "stream",
     "text": [
      "--2023-02-09 14:46:56--  https://raw.githubusercontent.com/karpathy/char-rnn/master/data/tinyshakespeare/input.txt\n",
      "Resolving raw.githubusercontent.com (raw.githubusercontent.com)... 185.199.110.133, 185.199.111.133, 185.199.108.133, ...\n",
      "Connecting to raw.githubusercontent.com (raw.githubusercontent.com)|185.199.110.133|:443... connected.\n",
      "HTTP request sent, awaiting response... 200 OK\n",
      "Length: 1115394 (1.1M) [text/plain]\n",
      "Saving to: ‘/home/nclark/git/framework_gpt/nbs/data/input.txt’\n",
      "\n",
      "/home/nclark/git/fr 100%[===================>]   1.06M  --.-KB/s    in 0.1s    \n",
      "\n",
      "2023-02-09 14:46:56 (7.11 MB/s) - ‘/home/nclark/git/framework_gpt/nbs/data/input.txt’ saved [1115394/1115394]\n",
      "\n"
     ]
    }
   ],
   "source": [
    "!wget -O /home/nclark/git/framework_gpt/nbs/data/input.txt https://raw.githubusercontent.com/karpathy/char-rnn/master/data/tinyshakespeare/input.txt\n",
    "\n",
    "with open('/home/nclark/git/framework_gpt/nbs/data/input.txt', 'r', encoding='utf-8') as f:\n",
    "    text = f.read()"
   ]
  },
  {
   "cell_type": "markdown",
   "id": "963b6351",
   "metadata": {},
   "source": [
    "Vocabulary Creation and Encoder:"
   ]
  },
  {
   "cell_type": "code",
   "execution_count": null,
   "id": "53d46d02",
   "metadata": {},
   "outputs": [],
   "source": [
    "chars = sorted(list(set(text)))\n",
    "vocab_size = len(chars)\n",
    "\n",
    "stoi = {ch:i for i,ch in enumerate(chars)}\n",
    "itos = {i:ch for i,ch in enumerate(chars)}\n",
    "encode = lambda s: [stoi[c] for c in s] #encoder: string -> list of integers\n",
    "decode = lambda l: ''.join(itos[i] for i in l) #decoder: list of integers -> string"
   ]
  },
  {
   "cell_type": "markdown",
   "id": "739265c7",
   "metadata": {},
   "source": [
    "90/10 split into training and validation sets"
   ]
  },
  {
   "cell_type": "code",
   "execution_count": null,
   "id": "853d4122",
   "metadata": {},
   "outputs": [],
   "source": [
    "data = torch.tensor(encode(text), dtype=torch.long)\n",
    "n = int(0.9*len(data))\n",
    "train_data = data[:n]\n",
    "val_data = data[n:]"
   ]
  },
  {
   "cell_type": "markdown",
   "id": "e35c5699",
   "metadata": {},
   "source": [
    "Data Loading:"
   ]
  },
  {
   "cell_type": "code",
   "execution_count": null,
   "id": "329554fd",
   "metadata": {},
   "outputs": [],
   "source": [
    "def get_batch(split):\n",
    "    # generate a small batch of data of inputs x and targets y\n",
    "    data =train_data if split == 'train' else val_data\n",
    "    ix = torch.randint(len(data) - block_size, (batch_size,))\n",
    "    x = torch.stack([data[i:i+block_size] for i in ix])\n",
    "    y = torch.stack([data[i+1:i+block_size+1] for i in ix])\n",
    "    x,y = x.to(device), y.to(device)\n",
    "    return x, y"
   ]
  },
  {
   "cell_type": "markdown",
   "id": "f5e446d3",
   "metadata": {},
   "source": [
    "Create an estimate_loss function for evaluation while training:"
   ]
  },
  {
   "cell_type": "code",
   "execution_count": null,
   "id": "e18a401b",
   "metadata": {},
   "outputs": [],
   "source": [
    "@torch.no_grad()\n",
    "def estimate_loss():\n",
    "    out = {}\n",
    "    model.eval()\n",
    "    for split in ['train', 'val']:\n",
    "        losses = torch.zeros(eval_iters)\n",
    "        for k in range(eval_iters):\n",
    "            X, Y = get_batch(split)\n",
    "            logits, loss = model(X,Y)\n",
    "            losses[k] = loss.item()\n",
    "        out[split] = losses.mean()\n",
    "    model.train()\n",
    "    return out"
   ]
  },
  {
   "cell_type": "markdown",
   "id": "0cabb004",
   "metadata": {},
   "source": [
    "Bigram Model:"
   ]
  },
  {
   "cell_type": "code",
   "execution_count": null,
   "id": "53f9d389",
   "metadata": {},
   "outputs": [],
   "source": [
    "class Head(nn.Module):\n",
    "    \"\"\"one head of self-attention\"\"\"\n",
    "    \n",
    "    def __init__(self, head_size):\n",
    "        super().__init__()\n",
    "        self.key = nn.Linear(n_embd, head_size, bias=False)\n",
    "        self.query = nn.Linear(n_embd, head_size,bias=False)\n",
    "        self.value = nn.Linear(n_embd, head_size, bias=False)\n",
    "        self.register_buffer('tril', torch.tril(torch.ones(block_size, block_size)))\n",
    "    \n",
    "    def forward(self, x):\n",
    "        B,T,C = x.shape\n",
    "        k = self.key(x)\n",
    "        q = self.query(x)\n",
    "        # computer attention scores\n",
    "        wei = q @ k.transpose(-2,-1) * C**-0.5 # (B, T, 16) @ (B, 16, T) ---> (B,T,T)\n",
    "        wei = wei.masked_fill(self.tril[:T, :T] == 0, float('-inf')) # (B,T,T)\n",
    "        wei = F.softmax(wei, dim=-1) #(B,T,T)\n",
    "        # weighted aggregation of values\n",
    "        v = self.value(x) #(B,T,C)\n",
    "        out = wei @ v #(B,T,T) @ (B,T,C) _> (B,T,C)\n",
    "        return out"
   ]
  },
  {
   "cell_type": "code",
   "execution_count": null,
   "id": "0e4c4d46",
   "metadata": {},
   "outputs": [],
   "source": [
    "class MultiHeadAttention(nn.Module):\n",
    "    \"\"\"multiple heads of self-attention in parallel\"\"\"\n",
    "    \n",
    "    def __init__(self, num_heads, head_size):\n",
    "        super().__init__()\n",
    "        self.heads = nn.ModuleList([Head(head_size) for _ in range(num_heads)])\n",
    "        \n",
    "    def forward(self, x):\n",
    "        return torch.cat([h(x) for h in self.heads], dim=-1)"
   ]
  },
  {
   "cell_type": "code",
   "execution_count": null,
   "id": "e7a912c6",
   "metadata": {},
   "outputs": [],
   "source": [
    "class BigramLanguageModel(nn.Module):\n",
    "    \n",
    "    def __init__(self):\n",
    "        super().__init__()\n",
    "        # each token reads off the logits for the next token from a lookup table\n",
    "        self.token_embedding_table = nn.Embedding(vocab_size, n_embd)\n",
    "        self.position_embedding_table = nn.Embedding(block_size, n_embd)\n",
    "        self.sa_heads =MultiHeadAttention(4, n_embd//4) #4 heads of 8-dimensional self-attention\n",
    "        self.lm_head = nn.Linear(n_embd, vocab_size)\n",
    "\n",
    "    def forward(self, idx, targets=None):\n",
    "        B, T = idx.shape\n",
    "        \n",
    "        # idx and targets are both (B, T) tensors of integers\n",
    "        tok_emb = self.token_embedding_table(idx) #(B,T,C)\n",
    "        pos_emb = self.position_embedding_table(torch.arange(T, device=device)) # (T,C)\n",
    "        x = tok_emb + pos_emb # (B,T,C)\n",
    "        x = self.sa_heads(x) #apply one head of self-attention\n",
    "        logits = self.lm_head(x) #(B,T,vocab_size)\n",
    "        if targets is None:\n",
    "            loss = None\n",
    "        else:\n",
    "            B, T, C = logits.shape\n",
    "            logits = logits.view(B*T, C)\n",
    "            targets = targets.view(B*T)\n",
    "            loss = F.cross_entropy(logits, targets)\n",
    "        \n",
    "        return logits, loss\n",
    "    \n",
    "    def generate(self, idx, max_new_tokens):\n",
    "        # idx is (B,T) array of indices in the current context\n",
    "        for _ in range(max_new_tokens):\n",
    "            #crop idx to the last block_size tokens\n",
    "            idx_cond = idx[:, -block_size:]\n",
    "            # get predicions\n",
    "            logits, loss = self(idx_cond)\n",
    "            # focus only on the last time step\n",
    "            logits = logits[:, -1, :] # becomes (B,C)\n",
    "            # apply softmax to get probabilities\n",
    "            probs = F.softmax(logits, dim=1) # (B,C)\n",
    "            # sample from the distribution\n",
    "            idx_next = torch.multinomial(probs, num_samples=1) #(B,1)\n",
    "            # append sampled index to the running sequence\n",
    "            idx = torch.cat((idx, idx_next), dim=1) # (B, T+1)\n",
    "        return idx"
   ]
  },
  {
   "cell_type": "markdown",
   "id": "dd6587c1",
   "metadata": {},
   "source": [
    "Initialize Model:"
   ]
  },
  {
   "cell_type": "code",
   "execution_count": null,
   "id": "0fc0f60d",
   "metadata": {},
   "outputs": [],
   "source": [
    "model = BigramLanguageModel()\n",
    "m = model.to(device)"
   ]
  },
  {
   "cell_type": "markdown",
   "id": "272b0d9e",
   "metadata": {},
   "source": [
    "Optimizer and Training Loop:"
   ]
  },
  {
   "cell_type": "code",
   "execution_count": null,
   "id": "7d9e6d1d",
   "metadata": {},
   "outputs": [
    {
     "name": "stdout",
     "output_type": "stream",
     "text": [
      "step 0: train loss 4.2933, val loss 4.2968\n",
      "step 500: train loss 2.6631, val loss 2.6575\n",
      "step 1000: train loss 2.5354, val loss 2.5247\n",
      "step 1500: train loss 2.4781, val loss 2.4689\n",
      "step 2000: train loss 2.4364, val loss 2.4388\n",
      "step 2500: train loss 2.3951, val loss 2.4072\n",
      "step 3000: train loss 2.3656, val loss 2.3884\n",
      "step 3500: train loss 2.3505, val loss 2.3596\n",
      "step 4000: train loss 2.3166, val loss 2.3502\n",
      "step 4500: train loss 2.3141, val loss 2.3229\n"
     ]
    }
   ],
   "source": [
    "optimizer = torch.optim.AdamW(m.parameters(), lr=learning_rate)\n",
    "\n",
    "for iter in range(max_iters):\n",
    "    \n",
    "    # evaluate the loss on train and val sets every eval_interval\n",
    "    if iter % eval_interval == 0:\n",
    "        losses = estimate_loss()\n",
    "        print(f\"step {iter}: train loss {losses['train']:.4f}, val loss {losses['val']:.4f}\")\n",
    "    \n",
    "    # sample a batch of data\n",
    "    xb, yb = get_batch('train')\n",
    "    \n",
    "    #evluate the loss\n",
    "    logits, loss = m(xb, yb)\n",
    "    optimizer.zero_grad(set_to_none=True)\n",
    "    loss.backward()\n",
    "    optimizer.step()"
   ]
  },
  {
   "cell_type": "markdown",
   "id": "c44e3ffb",
   "metadata": {},
   "source": [
    "Generate Text:"
   ]
  },
  {
   "cell_type": "code",
   "execution_count": null,
   "id": "b6204034",
   "metadata": {},
   "outputs": [
    {
     "name": "stdout",
     "output_type": "stream",
     "text": [
      "\n",
      "\n",
      "Wherre chey thark,\n",
      "Andinfe thand ther, we oto.\n",
      "\n",
      "The hin.\n",
      "\n",
      "ABcat\n",
      "R :\n",
      "LE:\n",
      "K:\n",
      "Wheline lillo anerd fol othouadbe nd th:\n",
      "Oe be.\n",
      "QEUELORYo word wheo?\n",
      "\n",
      "Wyor I:\n",
      "I th aus Euld't ceryondm's ourrse;\n",
      "Hansas sthe Ecokrnd.\n",
      "BUSu tour tt eslf bllle dirord ht wacetea yous, PEE:\n",
      "Coutr withorm sande, fo st othe hd tter yos I cubne seg min:\n",
      "Ther'liy houre er\n",
      "I ate itertohorudr, Bulded the'dd En RWH:\n",
      "Wy,\n",
      "IWees sbece fount CIHICARLCENTOD BRE:\n",
      "CAthe kallden thit.\n",
      "\n",
      "Ad sondno ha quy, I:\n",
      "Cubre ellids bles dalato frer th\n"
     ]
    }
   ],
   "source": [
    "context = torch.zeros((1,1), dtype=torch.long, device=device)\n",
    "print(decode(model.generate(context, max_new_tokens=500)[0].tolist()))"
   ]
  }
 ],
 "metadata": {
  "kernelspec": {
   "display_name": "Python 3 (ipykernel)",
   "language": "python",
   "name": "python3"
  }
 },
 "nbformat": 4,
 "nbformat_minor": 5
}
